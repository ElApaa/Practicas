{
 "cells": [
  {
   "cell_type": "markdown",
   "metadata": {},
   "source": [
    "# If-Else Statement"
   ]
  },
  {
   "cell_type": "markdown",
   "metadata": {},
   "source": [
    "Create a program in Python that ask for the grades of a user (_math, statistics_ and _electronics_ ) and show different messages depending of the number of courses approved."
   ]
  },
  {
   "cell_type": "code",
   "execution_count": null,
   "metadata": {},
   "outputs": [],
   "source": [
    "name = input(\"Hello what is your name? \")\n",
    "print(\"Nice to meet you \", name,\"! :3\")\n",
    "print(\"Please enter grades for the following subjects: \")\n",
    "mat = int(input(\"Math \"))\n",
    "print(\" \")\n",
    "sta = int(input(\"Statistics \"))\n",
    "print(\" \")\n",
    "ele = int(input(\"Electronics \"))\n",
    "print(\" \")\n",
    "print(\"Your general average is: \", (mat+sta+ele)/3 )\n",
    "if mat >= 8 and sta >= 8 and ele >= 8 :\n",
    "    print(\"Congratulatios \", name, \"!, you passed all your subjects! :D\")\n",
    "elif mat < 8 and sta < 8 and ele < 8:\n",
    "    print(\"Sorry \", name,\"you failed all your subjects!. :C\")\n",
    "    print (\"Bye \", name)\n",
    "else:\n",
    "    print(\"You failed the following subjects: \")\n",
    "    if mat < 8:\n",
    "        print(\"Math, because you got\",mat)\n",
    "    if sta < 8:\n",
    "        print(\"Statistics, because you got\",sta)\n",
    "    if ele < 8:\n",
    "        print(\"Electronics, because you got\",ele)\n",
    "    print(\"\")\n",
    "    print(\"And passed these others:\")\n",
    "    if mat >= 8:\n",
    "        print(\"Math\")\n",
    "    if sta >= 8:\n",
    "        print(\"Statistics\")\n",
    "    if ele >= 8:\n",
    "        print(\"Electronics\")\n",
    "    print(\"\")\n",
    "    print (\"Do your best next time \", name)"
   ]
  }
 ],
 "metadata": {
  "kernelspec": {
   "display_name": "Python 3",
   "language": "python",
   "name": "python3"
  },
  "language_info": {
   "codemirror_mode": {
    "name": "ipython",
    "version": 3
   },
   "file_extension": ".py",
   "mimetype": "text/x-python",
   "name": "python",
   "nbconvert_exporter": "python",
   "pygments_lexer": "ipython3",
   "version": "3.8.3"
  }
 },
 "nbformat": 4,
 "nbformat_minor": 4
}
